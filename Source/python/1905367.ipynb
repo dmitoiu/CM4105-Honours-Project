{
 "cells": [
  {
   "cell_type": "markdown",
   "metadata": {},
   "source": [
    "### --------------------------------------------------------------------------------------------------------------------------------------------------------\n",
    "### Darie-Dragos Mitoiu - 1905367\n",
    "### Hard-Disk Failure Predictions  v1.0.0 06/02/2021\n",
    "### Machine Learning models designed to predict Hard-Disks Failure using S.M.A.R.T indicators\n",
    "### --------------------------------------------------------------------------------------------------------------------------------------------------------"
   ]
  },
  {
   "cell_type": "code",
   "execution_count": 131,
   "metadata": {},
   "outputs": [],
   "source": [
    "# Importing libraries\n",
    "import numpy as np\n",
    "import seaborn as sns\n",
    "import matplotlib.pyplot as plt\n",
    "import pandas as pd\n",
    "from sklearn.model_selection import train_test_split\n",
    "from scipy import stats\n",
    "from sklearn.utils import resample\n",
    "import sklearn.metrics as metrics\n",
    "from sklearn.svm import LinearSVC\n",
    "from sklearn.ensemble import RandomForestClassifier\n",
    "from sklearn.linear_model import LogisticRegression\n",
    "from sklearn.neural_network import MLPClassifier\n",
    "from sklearn.metrics import plot_roc_curve\n",
    "from sklearn.metrics import classification_report, accuracy_score  \n",
    "from sklearn.metrics import mean_squared_error\n",
    "from sklearn.metrics import precision_score, recall_score \n",
    "from sklearn.metrics import f1_score, matthews_corrcoef\n",
    "from sklearn.metrics import confusion_matrix"
   ]
  },
  {
   "cell_type": "code",
   "execution_count": 132,
   "metadata": {},
   "outputs": [],
   "source": [
    "plt.style.use('fivethirtyeight')\n",
    "\n",
    "# Fixing random state for reproducibility\n",
    "np.random.seed(19680801)"
   ]
  },
  {
   "cell_type": "code",
   "execution_count": 133,
   "metadata": {},
   "outputs": [],
   "source": [
    "df = pd.read_csv(\"../../../smart/backblaze/model_2017_ST4000DM000.csv\")"
   ]
  },
  {
   "cell_type": "code",
   "execution_count": 134,
   "metadata": {},
   "outputs": [],
   "source": [
    "df_train, df_test = train_test_split(df, test_size=0.2)"
   ]
  },
  {
   "cell_type": "markdown",
   "metadata": {},
   "source": [
    "### Utility Functions"
   ]
  },
  {
   "cell_type": "code",
   "execution_count": 135,
   "metadata": {},
   "outputs": [],
   "source": [
    "def model_performance(name, preds_y_model):\n",
    "    print(\"Model: \" + name) \n",
    "\n",
    "    acc = accuracy_score(Y_test, preds_y_model) \n",
    "    print(\"The accuracy is {}\".format(acc * 100)) \n",
    "\n",
    "    prec = precision_score(Y_test, preds_y_model) \n",
    "    print(\"The precision is {}\".format(prec)) \n",
    "\n",
    "    rec = recall_score(Y_test, preds_y_model) \n",
    "    print(\"The recall is {}\".format(rec)) \n",
    "\n",
    "    f1 = f1_score(Y_test, preds_y_model) \n",
    "    print(\"The F1-Score is {}\".format(f1)) \n",
    "\n",
    "    print(\"ROC AUC score: %f\" % metrics.roc_auc_score(Y_test, preds_y_model))\n",
    "\n",
    "    MCC = matthews_corrcoef(Y_test, preds_y_model) \n",
    "    print(\"The Matthews correlation coefficient is {}\".format(MCC))"
   ]
  },
  {
   "cell_type": "markdown",
   "metadata": {},
   "source": [
    "### Training Data Exploration"
   ]
  },
  {
   "cell_type": "code",
   "execution_count": 136,
   "metadata": {},
   "outputs": [
    {
     "data": {
      "text/html": [
       "<div>\n",
       "<style scoped>\n",
       "    .dataframe tbody tr th:only-of-type {\n",
       "        vertical-align: middle;\n",
       "    }\n",
       "\n",
       "    .dataframe tbody tr th {\n",
       "        vertical-align: top;\n",
       "    }\n",
       "\n",
       "    .dataframe thead th {\n",
       "        text-align: right;\n",
       "    }\n",
       "</style>\n",
       "<table border=\"1\" class=\"dataframe\">\n",
       "  <thead>\n",
       "    <tr style=\"text-align: right;\">\n",
       "      <th></th>\n",
       "      <th>date</th>\n",
       "      <th>serial_number</th>\n",
       "      <th>model</th>\n",
       "      <th>capacity_bytes</th>\n",
       "      <th>failure</th>\n",
       "      <th>smart_1_normalized</th>\n",
       "      <th>smart_1_raw</th>\n",
       "      <th>smart_2_normalized</th>\n",
       "      <th>smart_2_raw</th>\n",
       "      <th>smart_3_normalized</th>\n",
       "      <th>...</th>\n",
       "      <th>smart_250_normalized</th>\n",
       "      <th>smart_250_raw</th>\n",
       "      <th>smart_251_normalized</th>\n",
       "      <th>smart_251_raw</th>\n",
       "      <th>smart_252_normalized</th>\n",
       "      <th>smart_252_raw</th>\n",
       "      <th>smart_254_normalized</th>\n",
       "      <th>smart_254_raw</th>\n",
       "      <th>smart_255_normalized</th>\n",
       "      <th>smart_255_raw</th>\n",
       "    </tr>\n",
       "  </thead>\n",
       "  <tbody>\n",
       "    <tr>\n",
       "      <th>142761</th>\n",
       "      <td>2017-11-21</td>\n",
       "      <td>Z302F0PG</td>\n",
       "      <td>ST4000DM000</td>\n",
       "      <td>4000787030016</td>\n",
       "      <td>0</td>\n",
       "      <td>119.0</td>\n",
       "      <td>232621592.0</td>\n",
       "      <td>NaN</td>\n",
       "      <td>NaN</td>\n",
       "      <td>91.0</td>\n",
       "      <td>...</td>\n",
       "      <td>NaN</td>\n",
       "      <td>NaN</td>\n",
       "      <td>NaN</td>\n",
       "      <td>NaN</td>\n",
       "      <td>NaN</td>\n",
       "      <td>NaN</td>\n",
       "      <td>NaN</td>\n",
       "      <td>NaN</td>\n",
       "      <td>NaN</td>\n",
       "      <td>NaN</td>\n",
       "    </tr>\n",
       "    <tr>\n",
       "      <th>103785</th>\n",
       "      <td>2017-11-02</td>\n",
       "      <td>S300VTNJ</td>\n",
       "      <td>ST4000DM000</td>\n",
       "      <td>4000787030016</td>\n",
       "      <td>0</td>\n",
       "      <td>116.0</td>\n",
       "      <td>103693392.0</td>\n",
       "      <td>NaN</td>\n",
       "      <td>NaN</td>\n",
       "      <td>96.0</td>\n",
       "      <td>...</td>\n",
       "      <td>NaN</td>\n",
       "      <td>NaN</td>\n",
       "      <td>NaN</td>\n",
       "      <td>NaN</td>\n",
       "      <td>NaN</td>\n",
       "      <td>NaN</td>\n",
       "      <td>NaN</td>\n",
       "      <td>NaN</td>\n",
       "      <td>NaN</td>\n",
       "      <td>NaN</td>\n",
       "    </tr>\n",
       "    <tr>\n",
       "      <th>73498</th>\n",
       "      <td>2017-10-22</td>\n",
       "      <td>Z3015BSN</td>\n",
       "      <td>ST4000DM000</td>\n",
       "      <td>4000787030016</td>\n",
       "      <td>0</td>\n",
       "      <td>117.0</td>\n",
       "      <td>150626720.0</td>\n",
       "      <td>NaN</td>\n",
       "      <td>NaN</td>\n",
       "      <td>92.0</td>\n",
       "      <td>...</td>\n",
       "      <td>NaN</td>\n",
       "      <td>NaN</td>\n",
       "      <td>NaN</td>\n",
       "      <td>NaN</td>\n",
       "      <td>NaN</td>\n",
       "      <td>NaN</td>\n",
       "      <td>NaN</td>\n",
       "      <td>NaN</td>\n",
       "      <td>NaN</td>\n",
       "      <td>NaN</td>\n",
       "    </tr>\n",
       "    <tr>\n",
       "      <th>9631</th>\n",
       "      <td>2017-10-03</td>\n",
       "      <td>S301F4DC</td>\n",
       "      <td>ST4000DM000</td>\n",
       "      <td>4000787030016</td>\n",
       "      <td>0</td>\n",
       "      <td>111.0</td>\n",
       "      <td>38125824.0</td>\n",
       "      <td>NaN</td>\n",
       "      <td>NaN</td>\n",
       "      <td>97.0</td>\n",
       "      <td>...</td>\n",
       "      <td>NaN</td>\n",
       "      <td>NaN</td>\n",
       "      <td>NaN</td>\n",
       "      <td>NaN</td>\n",
       "      <td>NaN</td>\n",
       "      <td>NaN</td>\n",
       "      <td>NaN</td>\n",
       "      <td>NaN</td>\n",
       "      <td>NaN</td>\n",
       "      <td>NaN</td>\n",
       "    </tr>\n",
       "    <tr>\n",
       "      <th>87021</th>\n",
       "      <td>2017-10-27</td>\n",
       "      <td>S300ZAFC</td>\n",
       "      <td>ST4000DM000</td>\n",
       "      <td>4000787030016</td>\n",
       "      <td>0</td>\n",
       "      <td>119.0</td>\n",
       "      <td>224415952.0</td>\n",
       "      <td>NaN</td>\n",
       "      <td>NaN</td>\n",
       "      <td>92.0</td>\n",
       "      <td>...</td>\n",
       "      <td>NaN</td>\n",
       "      <td>NaN</td>\n",
       "      <td>NaN</td>\n",
       "      <td>NaN</td>\n",
       "      <td>NaN</td>\n",
       "      <td>NaN</td>\n",
       "      <td>NaN</td>\n",
       "      <td>NaN</td>\n",
       "      <td>NaN</td>\n",
       "      <td>NaN</td>\n",
       "    </tr>\n",
       "  </tbody>\n",
       "</table>\n",
       "<p>5 rows × 95 columns</p>\n",
       "</div>"
      ],
      "text/plain": [
       "              date serial_number        model  capacity_bytes  failure  \\\n",
       "142761  2017-11-21      Z302F0PG  ST4000DM000   4000787030016        0   \n",
       "103785  2017-11-02      S300VTNJ  ST4000DM000   4000787030016        0   \n",
       "73498   2017-10-22      Z3015BSN  ST4000DM000   4000787030016        0   \n",
       "9631    2017-10-03      S301F4DC  ST4000DM000   4000787030016        0   \n",
       "87021   2017-10-27      S300ZAFC  ST4000DM000   4000787030016        0   \n",
       "\n",
       "        smart_1_normalized  smart_1_raw  smart_2_normalized  smart_2_raw  \\\n",
       "142761               119.0  232621592.0                 NaN          NaN   \n",
       "103785               116.0  103693392.0                 NaN          NaN   \n",
       "73498                117.0  150626720.0                 NaN          NaN   \n",
       "9631                 111.0   38125824.0                 NaN          NaN   \n",
       "87021                119.0  224415952.0                 NaN          NaN   \n",
       "\n",
       "        smart_3_normalized  ...  smart_250_normalized  smart_250_raw  \\\n",
       "142761                91.0  ...                   NaN            NaN   \n",
       "103785                96.0  ...                   NaN            NaN   \n",
       "73498                 92.0  ...                   NaN            NaN   \n",
       "9631                  97.0  ...                   NaN            NaN   \n",
       "87021                 92.0  ...                   NaN            NaN   \n",
       "\n",
       "        smart_251_normalized  smart_251_raw  smart_252_normalized  \\\n",
       "142761                   NaN            NaN                   NaN   \n",
       "103785                   NaN            NaN                   NaN   \n",
       "73498                    NaN            NaN                   NaN   \n",
       "9631                     NaN            NaN                   NaN   \n",
       "87021                    NaN            NaN                   NaN   \n",
       "\n",
       "        smart_252_raw  smart_254_normalized  smart_254_raw  \\\n",
       "142761            NaN                   NaN            NaN   \n",
       "103785            NaN                   NaN            NaN   \n",
       "73498             NaN                   NaN            NaN   \n",
       "9631              NaN                   NaN            NaN   \n",
       "87021             NaN                   NaN            NaN   \n",
       "\n",
       "        smart_255_normalized  smart_255_raw  \n",
       "142761                   NaN            NaN  \n",
       "103785                   NaN            NaN  \n",
       "73498                    NaN            NaN  \n",
       "9631                     NaN            NaN  \n",
       "87021                    NaN            NaN  \n",
       "\n",
       "[5 rows x 95 columns]"
      ]
     },
     "execution_count": 136,
     "metadata": {},
     "output_type": "execute_result"
    }
   ],
   "source": [
    "df_train.head()"
   ]
  },
  {
   "cell_type": "code",
   "execution_count": 137,
   "metadata": {},
   "outputs": [
    {
     "data": {
      "text/html": [
       "<div>\n",
       "<style scoped>\n",
       "    .dataframe tbody tr th:only-of-type {\n",
       "        vertical-align: middle;\n",
       "    }\n",
       "\n",
       "    .dataframe tbody tr th {\n",
       "        vertical-align: top;\n",
       "    }\n",
       "\n",
       "    .dataframe thead th {\n",
       "        text-align: right;\n",
       "    }\n",
       "</style>\n",
       "<table border=\"1\" class=\"dataframe\">\n",
       "  <thead>\n",
       "    <tr style=\"text-align: right;\">\n",
       "      <th></th>\n",
       "      <th>capacity_bytes</th>\n",
       "      <th>failure</th>\n",
       "      <th>smart_1_normalized</th>\n",
       "      <th>smart_1_raw</th>\n",
       "      <th>smart_2_normalized</th>\n",
       "      <th>smart_2_raw</th>\n",
       "      <th>smart_3_normalized</th>\n",
       "      <th>smart_3_raw</th>\n",
       "      <th>smart_4_normalized</th>\n",
       "      <th>smart_4_raw</th>\n",
       "      <th>...</th>\n",
       "      <th>smart_250_normalized</th>\n",
       "      <th>smart_250_raw</th>\n",
       "      <th>smart_251_normalized</th>\n",
       "      <th>smart_251_raw</th>\n",
       "      <th>smart_252_normalized</th>\n",
       "      <th>smart_252_raw</th>\n",
       "      <th>smart_254_normalized</th>\n",
       "      <th>smart_254_raw</th>\n",
       "      <th>smart_255_normalized</th>\n",
       "      <th>smart_255_raw</th>\n",
       "    </tr>\n",
       "  </thead>\n",
       "  <tbody>\n",
       "    <tr>\n",
       "      <th>count</th>\n",
       "      <td>1.426380e+05</td>\n",
       "      <td>142638.000000</td>\n",
       "      <td>142631.000000</td>\n",
       "      <td>1.426310e+05</td>\n",
       "      <td>0.0</td>\n",
       "      <td>0.0</td>\n",
       "      <td>142631.000000</td>\n",
       "      <td>142631.0</td>\n",
       "      <td>142631.000000</td>\n",
       "      <td>142631.000000</td>\n",
       "      <td>...</td>\n",
       "      <td>0.0</td>\n",
       "      <td>0.0</td>\n",
       "      <td>0.0</td>\n",
       "      <td>0.0</td>\n",
       "      <td>0.0</td>\n",
       "      <td>0.0</td>\n",
       "      <td>0.0</td>\n",
       "      <td>0.0</td>\n",
       "      <td>0.0</td>\n",
       "      <td>0.0</td>\n",
       "    </tr>\n",
       "    <tr>\n",
       "      <th>mean</th>\n",
       "      <td>4.000591e+12</td>\n",
       "      <td>0.058589</td>\n",
       "      <td>115.303875</td>\n",
       "      <td>1.222478e+08</td>\n",
       "      <td>NaN</td>\n",
       "      <td>NaN</td>\n",
       "      <td>93.432585</td>\n",
       "      <td>0.0</td>\n",
       "      <td>99.999509</td>\n",
       "      <td>10.669062</td>\n",
       "      <td>...</td>\n",
       "      <td>NaN</td>\n",
       "      <td>NaN</td>\n",
       "      <td>NaN</td>\n",
       "      <td>NaN</td>\n",
       "      <td>NaN</td>\n",
       "      <td>NaN</td>\n",
       "      <td>NaN</td>\n",
       "      <td>NaN</td>\n",
       "      <td>NaN</td>\n",
       "      <td>NaN</td>\n",
       "    </tr>\n",
       "    <tr>\n",
       "      <th>std</th>\n",
       "      <td>2.802642e+10</td>\n",
       "      <td>0.234854</td>\n",
       "      <td>3.874610</td>\n",
       "      <td>7.065631e+07</td>\n",
       "      <td>NaN</td>\n",
       "      <td>NaN</td>\n",
       "      <td>2.351016</td>\n",
       "      <td>0.0</td>\n",
       "      <td>0.022148</td>\n",
       "      <td>26.046924</td>\n",
       "      <td>...</td>\n",
       "      <td>NaN</td>\n",
       "      <td>NaN</td>\n",
       "      <td>NaN</td>\n",
       "      <td>NaN</td>\n",
       "      <td>NaN</td>\n",
       "      <td>NaN</td>\n",
       "      <td>NaN</td>\n",
       "      <td>NaN</td>\n",
       "      <td>NaN</td>\n",
       "      <td>NaN</td>\n",
       "    </tr>\n",
       "    <tr>\n",
       "      <th>min</th>\n",
       "      <td>-1.000000e+00</td>\n",
       "      <td>0.000000</td>\n",
       "      <td>97.000000</td>\n",
       "      <td>0.000000e+00</td>\n",
       "      <td>NaN</td>\n",
       "      <td>NaN</td>\n",
       "      <td>91.000000</td>\n",
       "      <td>0.0</td>\n",
       "      <td>99.000000</td>\n",
       "      <td>1.000000</td>\n",
       "      <td>...</td>\n",
       "      <td>NaN</td>\n",
       "      <td>NaN</td>\n",
       "      <td>NaN</td>\n",
       "      <td>NaN</td>\n",
       "      <td>NaN</td>\n",
       "      <td>NaN</td>\n",
       "      <td>NaN</td>\n",
       "      <td>NaN</td>\n",
       "      <td>NaN</td>\n",
       "      <td>NaN</td>\n",
       "    </tr>\n",
       "    <tr>\n",
       "      <th>25%</th>\n",
       "      <td>4.000787e+12</td>\n",
       "      <td>0.000000</td>\n",
       "      <td>114.000000</td>\n",
       "      <td>6.096614e+07</td>\n",
       "      <td>NaN</td>\n",
       "      <td>NaN</td>\n",
       "      <td>91.000000</td>\n",
       "      <td>0.0</td>\n",
       "      <td>100.000000</td>\n",
       "      <td>5.000000</td>\n",
       "      <td>...</td>\n",
       "      <td>NaN</td>\n",
       "      <td>NaN</td>\n",
       "      <td>NaN</td>\n",
       "      <td>NaN</td>\n",
       "      <td>NaN</td>\n",
       "      <td>NaN</td>\n",
       "      <td>NaN</td>\n",
       "      <td>NaN</td>\n",
       "      <td>NaN</td>\n",
       "      <td>NaN</td>\n",
       "    </tr>\n",
       "    <tr>\n",
       "      <th>50%</th>\n",
       "      <td>4.000787e+12</td>\n",
       "      <td>0.000000</td>\n",
       "      <td>117.000000</td>\n",
       "      <td>1.224158e+08</td>\n",
       "      <td>NaN</td>\n",
       "      <td>NaN</td>\n",
       "      <td>93.000000</td>\n",
       "      <td>0.0</td>\n",
       "      <td>100.000000</td>\n",
       "      <td>8.000000</td>\n",
       "      <td>...</td>\n",
       "      <td>NaN</td>\n",
       "      <td>NaN</td>\n",
       "      <td>NaN</td>\n",
       "      <td>NaN</td>\n",
       "      <td>NaN</td>\n",
       "      <td>NaN</td>\n",
       "      <td>NaN</td>\n",
       "      <td>NaN</td>\n",
       "      <td>NaN</td>\n",
       "      <td>NaN</td>\n",
       "    </tr>\n",
       "    <tr>\n",
       "      <th>75%</th>\n",
       "      <td>4.000787e+12</td>\n",
       "      <td>0.000000</td>\n",
       "      <td>118.000000</td>\n",
       "      <td>1.835540e+08</td>\n",
       "      <td>NaN</td>\n",
       "      <td>NaN</td>\n",
       "      <td>95.000000</td>\n",
       "      <td>0.0</td>\n",
       "      <td>100.000000</td>\n",
       "      <td>13.000000</td>\n",
       "      <td>...</td>\n",
       "      <td>NaN</td>\n",
       "      <td>NaN</td>\n",
       "      <td>NaN</td>\n",
       "      <td>NaN</td>\n",
       "      <td>NaN</td>\n",
       "      <td>NaN</td>\n",
       "      <td>NaN</td>\n",
       "      <td>NaN</td>\n",
       "      <td>NaN</td>\n",
       "      <td>NaN</td>\n",
       "    </tr>\n",
       "    <tr>\n",
       "      <th>max</th>\n",
       "      <td>4.000787e+12</td>\n",
       "      <td>1.000000</td>\n",
       "      <td>120.000000</td>\n",
       "      <td>2.441400e+08</td>\n",
       "      <td>NaN</td>\n",
       "      <td>NaN</td>\n",
       "      <td>100.000000</td>\n",
       "      <td>0.0</td>\n",
       "      <td>100.000000</td>\n",
       "      <td>1113.000000</td>\n",
       "      <td>...</td>\n",
       "      <td>NaN</td>\n",
       "      <td>NaN</td>\n",
       "      <td>NaN</td>\n",
       "      <td>NaN</td>\n",
       "      <td>NaN</td>\n",
       "      <td>NaN</td>\n",
       "      <td>NaN</td>\n",
       "      <td>NaN</td>\n",
       "      <td>NaN</td>\n",
       "      <td>NaN</td>\n",
       "    </tr>\n",
       "  </tbody>\n",
       "</table>\n",
       "<p>8 rows × 92 columns</p>\n",
       "</div>"
      ],
      "text/plain": [
       "       capacity_bytes        failure  smart_1_normalized   smart_1_raw  \\\n",
       "count    1.426380e+05  142638.000000       142631.000000  1.426310e+05   \n",
       "mean     4.000591e+12       0.058589          115.303875  1.222478e+08   \n",
       "std      2.802642e+10       0.234854            3.874610  7.065631e+07   \n",
       "min     -1.000000e+00       0.000000           97.000000  0.000000e+00   \n",
       "25%      4.000787e+12       0.000000          114.000000  6.096614e+07   \n",
       "50%      4.000787e+12       0.000000          117.000000  1.224158e+08   \n",
       "75%      4.000787e+12       0.000000          118.000000  1.835540e+08   \n",
       "max      4.000787e+12       1.000000          120.000000  2.441400e+08   \n",
       "\n",
       "       smart_2_normalized  smart_2_raw  smart_3_normalized  smart_3_raw  \\\n",
       "count                 0.0          0.0       142631.000000     142631.0   \n",
       "mean                  NaN          NaN           93.432585          0.0   \n",
       "std                   NaN          NaN            2.351016          0.0   \n",
       "min                   NaN          NaN           91.000000          0.0   \n",
       "25%                   NaN          NaN           91.000000          0.0   \n",
       "50%                   NaN          NaN           93.000000          0.0   \n",
       "75%                   NaN          NaN           95.000000          0.0   \n",
       "max                   NaN          NaN          100.000000          0.0   \n",
       "\n",
       "       smart_4_normalized    smart_4_raw  ...  smart_250_normalized  \\\n",
       "count       142631.000000  142631.000000  ...                   0.0   \n",
       "mean            99.999509      10.669062  ...                   NaN   \n",
       "std              0.022148      26.046924  ...                   NaN   \n",
       "min             99.000000       1.000000  ...                   NaN   \n",
       "25%            100.000000       5.000000  ...                   NaN   \n",
       "50%            100.000000       8.000000  ...                   NaN   \n",
       "75%            100.000000      13.000000  ...                   NaN   \n",
       "max            100.000000    1113.000000  ...                   NaN   \n",
       "\n",
       "       smart_250_raw  smart_251_normalized  smart_251_raw  \\\n",
       "count            0.0                   0.0            0.0   \n",
       "mean             NaN                   NaN            NaN   \n",
       "std              NaN                   NaN            NaN   \n",
       "min              NaN                   NaN            NaN   \n",
       "25%              NaN                   NaN            NaN   \n",
       "50%              NaN                   NaN            NaN   \n",
       "75%              NaN                   NaN            NaN   \n",
       "max              NaN                   NaN            NaN   \n",
       "\n",
       "       smart_252_normalized  smart_252_raw  smart_254_normalized  \\\n",
       "count                   0.0            0.0                   0.0   \n",
       "mean                    NaN            NaN                   NaN   \n",
       "std                     NaN            NaN                   NaN   \n",
       "min                     NaN            NaN                   NaN   \n",
       "25%                     NaN            NaN                   NaN   \n",
       "50%                     NaN            NaN                   NaN   \n",
       "75%                     NaN            NaN                   NaN   \n",
       "max                     NaN            NaN                   NaN   \n",
       "\n",
       "       smart_254_raw  smart_255_normalized  smart_255_raw  \n",
       "count            0.0                   0.0            0.0  \n",
       "mean             NaN                   NaN            NaN  \n",
       "std              NaN                   NaN            NaN  \n",
       "min              NaN                   NaN            NaN  \n",
       "25%              NaN                   NaN            NaN  \n",
       "50%              NaN                   NaN            NaN  \n",
       "75%              NaN                   NaN            NaN  \n",
       "max              NaN                   NaN            NaN  \n",
       "\n",
       "[8 rows x 92 columns]"
      ]
     },
     "execution_count": 137,
     "metadata": {},
     "output_type": "execute_result"
    }
   ],
   "source": [
    "df_train.describe()"
   ]
  },
  {
   "cell_type": "code",
   "execution_count": 138,
   "metadata": {},
   "outputs": [
    {
     "name": "stdout",
     "output_type": "stream",
     "text": [
      "(142638, 95)\n"
     ]
    }
   ],
   "source": [
    "print(df_train.shape)"
   ]
  },
  {
   "cell_type": "markdown",
   "metadata": {},
   "source": [
    "### Testing Data Exploration"
   ]
  },
  {
   "cell_type": "code",
   "execution_count": 139,
   "metadata": {},
   "outputs": [
    {
     "data": {
      "text/html": [
       "<div>\n",
       "<style scoped>\n",
       "    .dataframe tbody tr th:only-of-type {\n",
       "        vertical-align: middle;\n",
       "    }\n",
       "\n",
       "    .dataframe tbody tr th {\n",
       "        vertical-align: top;\n",
       "    }\n",
       "\n",
       "    .dataframe thead th {\n",
       "        text-align: right;\n",
       "    }\n",
       "</style>\n",
       "<table border=\"1\" class=\"dataframe\">\n",
       "  <thead>\n",
       "    <tr style=\"text-align: right;\">\n",
       "      <th></th>\n",
       "      <th>date</th>\n",
       "      <th>serial_number</th>\n",
       "      <th>model</th>\n",
       "      <th>capacity_bytes</th>\n",
       "      <th>failure</th>\n",
       "      <th>smart_1_normalized</th>\n",
       "      <th>smart_1_raw</th>\n",
       "      <th>smart_2_normalized</th>\n",
       "      <th>smart_2_raw</th>\n",
       "      <th>smart_3_normalized</th>\n",
       "      <th>...</th>\n",
       "      <th>smart_250_normalized</th>\n",
       "      <th>smart_250_raw</th>\n",
       "      <th>smart_251_normalized</th>\n",
       "      <th>smart_251_raw</th>\n",
       "      <th>smart_252_normalized</th>\n",
       "      <th>smart_252_raw</th>\n",
       "      <th>smart_254_normalized</th>\n",
       "      <th>smart_254_raw</th>\n",
       "      <th>smart_255_normalized</th>\n",
       "      <th>smart_255_raw</th>\n",
       "    </tr>\n",
       "  </thead>\n",
       "  <tbody>\n",
       "    <tr>\n",
       "      <th>13683</th>\n",
       "      <td>2017-10-04</td>\n",
       "      <td>S30111TG</td>\n",
       "      <td>ST4000DM000</td>\n",
       "      <td>4000787030016</td>\n",
       "      <td>0</td>\n",
       "      <td>116.0</td>\n",
       "      <td>107706856.0</td>\n",
       "      <td>NaN</td>\n",
       "      <td>NaN</td>\n",
       "      <td>94.0</td>\n",
       "      <td>...</td>\n",
       "      <td>NaN</td>\n",
       "      <td>NaN</td>\n",
       "      <td>NaN</td>\n",
       "      <td>NaN</td>\n",
       "      <td>NaN</td>\n",
       "      <td>NaN</td>\n",
       "      <td>NaN</td>\n",
       "      <td>NaN</td>\n",
       "      <td>NaN</td>\n",
       "      <td>NaN</td>\n",
       "    </tr>\n",
       "    <tr>\n",
       "      <th>133477</th>\n",
       "      <td>2017-11-16</td>\n",
       "      <td>Z305APV3</td>\n",
       "      <td>ST4000DM000</td>\n",
       "      <td>4000787030016</td>\n",
       "      <td>0</td>\n",
       "      <td>120.0</td>\n",
       "      <td>2409880.0</td>\n",
       "      <td>NaN</td>\n",
       "      <td>NaN</td>\n",
       "      <td>94.0</td>\n",
       "      <td>...</td>\n",
       "      <td>NaN</td>\n",
       "      <td>NaN</td>\n",
       "      <td>NaN</td>\n",
       "      <td>NaN</td>\n",
       "      <td>NaN</td>\n",
       "      <td>NaN</td>\n",
       "      <td>NaN</td>\n",
       "      <td>NaN</td>\n",
       "      <td>NaN</td>\n",
       "      <td>NaN</td>\n",
       "    </tr>\n",
       "    <tr>\n",
       "      <th>146394</th>\n",
       "      <td>2017-11-23</td>\n",
       "      <td>W3009P6Q</td>\n",
       "      <td>ST4000DM000</td>\n",
       "      <td>4000787030016</td>\n",
       "      <td>0</td>\n",
       "      <td>117.0</td>\n",
       "      <td>139193936.0</td>\n",
       "      <td>NaN</td>\n",
       "      <td>NaN</td>\n",
       "      <td>91.0</td>\n",
       "      <td>...</td>\n",
       "      <td>NaN</td>\n",
       "      <td>NaN</td>\n",
       "      <td>NaN</td>\n",
       "      <td>NaN</td>\n",
       "      <td>NaN</td>\n",
       "      <td>NaN</td>\n",
       "      <td>NaN</td>\n",
       "      <td>NaN</td>\n",
       "      <td>NaN</td>\n",
       "      <td>NaN</td>\n",
       "    </tr>\n",
       "    <tr>\n",
       "      <th>68870</th>\n",
       "      <td>2017-10-20</td>\n",
       "      <td>Z300XEFR</td>\n",
       "      <td>ST4000DM000</td>\n",
       "      <td>4000787030016</td>\n",
       "      <td>0</td>\n",
       "      <td>114.0</td>\n",
       "      <td>65374704.0</td>\n",
       "      <td>NaN</td>\n",
       "      <td>NaN</td>\n",
       "      <td>91.0</td>\n",
       "      <td>...</td>\n",
       "      <td>NaN</td>\n",
       "      <td>NaN</td>\n",
       "      <td>NaN</td>\n",
       "      <td>NaN</td>\n",
       "      <td>NaN</td>\n",
       "      <td>NaN</td>\n",
       "      <td>NaN</td>\n",
       "      <td>NaN</td>\n",
       "      <td>NaN</td>\n",
       "      <td>NaN</td>\n",
       "    </tr>\n",
       "    <tr>\n",
       "      <th>54952</th>\n",
       "      <td>2017-10-16</td>\n",
       "      <td>Z3014P4R</td>\n",
       "      <td>ST4000DM000</td>\n",
       "      <td>4000787030016</td>\n",
       "      <td>0</td>\n",
       "      <td>114.0</td>\n",
       "      <td>66635640.0</td>\n",
       "      <td>NaN</td>\n",
       "      <td>NaN</td>\n",
       "      <td>95.0</td>\n",
       "      <td>...</td>\n",
       "      <td>NaN</td>\n",
       "      <td>NaN</td>\n",
       "      <td>NaN</td>\n",
       "      <td>NaN</td>\n",
       "      <td>NaN</td>\n",
       "      <td>NaN</td>\n",
       "      <td>NaN</td>\n",
       "      <td>NaN</td>\n",
       "      <td>NaN</td>\n",
       "      <td>NaN</td>\n",
       "    </tr>\n",
       "  </tbody>\n",
       "</table>\n",
       "<p>5 rows × 95 columns</p>\n",
       "</div>"
      ],
      "text/plain": [
       "              date serial_number        model  capacity_bytes  failure  \\\n",
       "13683   2017-10-04      S30111TG  ST4000DM000   4000787030016        0   \n",
       "133477  2017-11-16      Z305APV3  ST4000DM000   4000787030016        0   \n",
       "146394  2017-11-23      W3009P6Q  ST4000DM000   4000787030016        0   \n",
       "68870   2017-10-20      Z300XEFR  ST4000DM000   4000787030016        0   \n",
       "54952   2017-10-16      Z3014P4R  ST4000DM000   4000787030016        0   \n",
       "\n",
       "        smart_1_normalized  smart_1_raw  smart_2_normalized  smart_2_raw  \\\n",
       "13683                116.0  107706856.0                 NaN          NaN   \n",
       "133477               120.0    2409880.0                 NaN          NaN   \n",
       "146394               117.0  139193936.0                 NaN          NaN   \n",
       "68870                114.0   65374704.0                 NaN          NaN   \n",
       "54952                114.0   66635640.0                 NaN          NaN   \n",
       "\n",
       "        smart_3_normalized  ...  smart_250_normalized  smart_250_raw  \\\n",
       "13683                 94.0  ...                   NaN            NaN   \n",
       "133477                94.0  ...                   NaN            NaN   \n",
       "146394                91.0  ...                   NaN            NaN   \n",
       "68870                 91.0  ...                   NaN            NaN   \n",
       "54952                 95.0  ...                   NaN            NaN   \n",
       "\n",
       "        smart_251_normalized  smart_251_raw  smart_252_normalized  \\\n",
       "13683                    NaN            NaN                   NaN   \n",
       "133477                   NaN            NaN                   NaN   \n",
       "146394                   NaN            NaN                   NaN   \n",
       "68870                    NaN            NaN                   NaN   \n",
       "54952                    NaN            NaN                   NaN   \n",
       "\n",
       "        smart_252_raw  smart_254_normalized  smart_254_raw  \\\n",
       "13683             NaN                   NaN            NaN   \n",
       "133477            NaN                   NaN            NaN   \n",
       "146394            NaN                   NaN            NaN   \n",
       "68870             NaN                   NaN            NaN   \n",
       "54952             NaN                   NaN            NaN   \n",
       "\n",
       "        smart_255_normalized  smart_255_raw  \n",
       "13683                    NaN            NaN  \n",
       "133477                   NaN            NaN  \n",
       "146394                   NaN            NaN  \n",
       "68870                    NaN            NaN  \n",
       "54952                    NaN            NaN  \n",
       "\n",
       "[5 rows x 95 columns]"
      ]
     },
     "execution_count": 139,
     "metadata": {},
     "output_type": "execute_result"
    }
   ],
   "source": [
    "df_test.head()"
   ]
  },
  {
   "cell_type": "code",
   "execution_count": 140,
   "metadata": {},
   "outputs": [
    {
     "data": {
      "text/html": [
       "<div>\n",
       "<style scoped>\n",
       "    .dataframe tbody tr th:only-of-type {\n",
       "        vertical-align: middle;\n",
       "    }\n",
       "\n",
       "    .dataframe tbody tr th {\n",
       "        vertical-align: top;\n",
       "    }\n",
       "\n",
       "    .dataframe thead th {\n",
       "        text-align: right;\n",
       "    }\n",
       "</style>\n",
       "<table border=\"1\" class=\"dataframe\">\n",
       "  <thead>\n",
       "    <tr style=\"text-align: right;\">\n",
       "      <th></th>\n",
       "      <th>capacity_bytes</th>\n",
       "      <th>failure</th>\n",
       "      <th>smart_1_normalized</th>\n",
       "      <th>smart_1_raw</th>\n",
       "      <th>smart_2_normalized</th>\n",
       "      <th>smart_2_raw</th>\n",
       "      <th>smart_3_normalized</th>\n",
       "      <th>smart_3_raw</th>\n",
       "      <th>smart_4_normalized</th>\n",
       "      <th>smart_4_raw</th>\n",
       "      <th>...</th>\n",
       "      <th>smart_250_normalized</th>\n",
       "      <th>smart_250_raw</th>\n",
       "      <th>smart_251_normalized</th>\n",
       "      <th>smart_251_raw</th>\n",
       "      <th>smart_252_normalized</th>\n",
       "      <th>smart_252_raw</th>\n",
       "      <th>smart_254_normalized</th>\n",
       "      <th>smart_254_raw</th>\n",
       "      <th>smart_255_normalized</th>\n",
       "      <th>smart_255_raw</th>\n",
       "    </tr>\n",
       "  </thead>\n",
       "  <tbody>\n",
       "    <tr>\n",
       "      <th>count</th>\n",
       "      <td>3.566000e+04</td>\n",
       "      <td>35660.000000</td>\n",
       "      <td>35654.000000</td>\n",
       "      <td>3.565400e+04</td>\n",
       "      <td>0.0</td>\n",
       "      <td>0.0</td>\n",
       "      <td>35654.000000</td>\n",
       "      <td>35654.0</td>\n",
       "      <td>35654.000000</td>\n",
       "      <td>35654.000000</td>\n",
       "      <td>...</td>\n",
       "      <td>0.0</td>\n",
       "      <td>0.0</td>\n",
       "      <td>0.0</td>\n",
       "      <td>0.0</td>\n",
       "      <td>0.0</td>\n",
       "      <td>0.0</td>\n",
       "      <td>0.0</td>\n",
       "      <td>0.0</td>\n",
       "      <td>0.0</td>\n",
       "      <td>0.0</td>\n",
       "    </tr>\n",
       "    <tr>\n",
       "      <th>mean</th>\n",
       "      <td>4.000114e+12</td>\n",
       "      <td>0.059450</td>\n",
       "      <td>115.297947</td>\n",
       "      <td>1.221033e+08</td>\n",
       "      <td>NaN</td>\n",
       "      <td>NaN</td>\n",
       "      <td>93.437174</td>\n",
       "      <td>0.0</td>\n",
       "      <td>99.999635</td>\n",
       "      <td>10.543305</td>\n",
       "      <td>...</td>\n",
       "      <td>NaN</td>\n",
       "      <td>NaN</td>\n",
       "      <td>NaN</td>\n",
       "      <td>NaN</td>\n",
       "      <td>NaN</td>\n",
       "      <td>NaN</td>\n",
       "      <td>NaN</td>\n",
       "      <td>NaN</td>\n",
       "      <td>NaN</td>\n",
       "      <td>NaN</td>\n",
       "    </tr>\n",
       "    <tr>\n",
       "      <th>std</th>\n",
       "      <td>5.189194e+10</td>\n",
       "      <td>0.236469</td>\n",
       "      <td>3.861476</td>\n",
       "      <td>7.035845e+07</td>\n",
       "      <td>NaN</td>\n",
       "      <td>NaN</td>\n",
       "      <td>2.361330</td>\n",
       "      <td>0.0</td>\n",
       "      <td>0.019092</td>\n",
       "      <td>22.875038</td>\n",
       "      <td>...</td>\n",
       "      <td>NaN</td>\n",
       "      <td>NaN</td>\n",
       "      <td>NaN</td>\n",
       "      <td>NaN</td>\n",
       "      <td>NaN</td>\n",
       "      <td>NaN</td>\n",
       "      <td>NaN</td>\n",
       "      <td>NaN</td>\n",
       "      <td>NaN</td>\n",
       "      <td>NaN</td>\n",
       "    </tr>\n",
       "    <tr>\n",
       "      <th>min</th>\n",
       "      <td>-1.000000e+00</td>\n",
       "      <td>0.000000</td>\n",
       "      <td>96.000000</td>\n",
       "      <td>0.000000e+00</td>\n",
       "      <td>NaN</td>\n",
       "      <td>NaN</td>\n",
       "      <td>91.000000</td>\n",
       "      <td>0.0</td>\n",
       "      <td>99.000000</td>\n",
       "      <td>1.000000</td>\n",
       "      <td>...</td>\n",
       "      <td>NaN</td>\n",
       "      <td>NaN</td>\n",
       "      <td>NaN</td>\n",
       "      <td>NaN</td>\n",
       "      <td>NaN</td>\n",
       "      <td>NaN</td>\n",
       "      <td>NaN</td>\n",
       "      <td>NaN</td>\n",
       "      <td>NaN</td>\n",
       "      <td>NaN</td>\n",
       "    </tr>\n",
       "    <tr>\n",
       "      <th>25%</th>\n",
       "      <td>4.000787e+12</td>\n",
       "      <td>0.000000</td>\n",
       "      <td>114.000000</td>\n",
       "      <td>6.104690e+07</td>\n",
       "      <td>NaN</td>\n",
       "      <td>NaN</td>\n",
       "      <td>91.000000</td>\n",
       "      <td>0.0</td>\n",
       "      <td>100.000000</td>\n",
       "      <td>5.000000</td>\n",
       "      <td>...</td>\n",
       "      <td>NaN</td>\n",
       "      <td>NaN</td>\n",
       "      <td>NaN</td>\n",
       "      <td>NaN</td>\n",
       "      <td>NaN</td>\n",
       "      <td>NaN</td>\n",
       "      <td>NaN</td>\n",
       "      <td>NaN</td>\n",
       "      <td>NaN</td>\n",
       "      <td>NaN</td>\n",
       "    </tr>\n",
       "    <tr>\n",
       "      <th>50%</th>\n",
       "      <td>4.000787e+12</td>\n",
       "      <td>0.000000</td>\n",
       "      <td>117.000000</td>\n",
       "      <td>1.222174e+08</td>\n",
       "      <td>NaN</td>\n",
       "      <td>NaN</td>\n",
       "      <td>92.000000</td>\n",
       "      <td>0.0</td>\n",
       "      <td>100.000000</td>\n",
       "      <td>8.000000</td>\n",
       "      <td>...</td>\n",
       "      <td>NaN</td>\n",
       "      <td>NaN</td>\n",
       "      <td>NaN</td>\n",
       "      <td>NaN</td>\n",
       "      <td>NaN</td>\n",
       "      <td>NaN</td>\n",
       "      <td>NaN</td>\n",
       "      <td>NaN</td>\n",
       "      <td>NaN</td>\n",
       "      <td>NaN</td>\n",
       "    </tr>\n",
       "    <tr>\n",
       "      <th>75%</th>\n",
       "      <td>4.000787e+12</td>\n",
       "      <td>0.000000</td>\n",
       "      <td>118.000000</td>\n",
       "      <td>1.830594e+08</td>\n",
       "      <td>NaN</td>\n",
       "      <td>NaN</td>\n",
       "      <td>95.000000</td>\n",
       "      <td>0.0</td>\n",
       "      <td>100.000000</td>\n",
       "      <td>13.000000</td>\n",
       "      <td>...</td>\n",
       "      <td>NaN</td>\n",
       "      <td>NaN</td>\n",
       "      <td>NaN</td>\n",
       "      <td>NaN</td>\n",
       "      <td>NaN</td>\n",
       "      <td>NaN</td>\n",
       "      <td>NaN</td>\n",
       "      <td>NaN</td>\n",
       "      <td>NaN</td>\n",
       "      <td>NaN</td>\n",
       "    </tr>\n",
       "    <tr>\n",
       "      <th>max</th>\n",
       "      <td>4.000787e+12</td>\n",
       "      <td>1.000000</td>\n",
       "      <td>120.000000</td>\n",
       "      <td>2.441396e+08</td>\n",
       "      <td>NaN</td>\n",
       "      <td>NaN</td>\n",
       "      <td>100.000000</td>\n",
       "      <td>0.0</td>\n",
       "      <td>100.000000</td>\n",
       "      <td>1113.000000</td>\n",
       "      <td>...</td>\n",
       "      <td>NaN</td>\n",
       "      <td>NaN</td>\n",
       "      <td>NaN</td>\n",
       "      <td>NaN</td>\n",
       "      <td>NaN</td>\n",
       "      <td>NaN</td>\n",
       "      <td>NaN</td>\n",
       "      <td>NaN</td>\n",
       "      <td>NaN</td>\n",
       "      <td>NaN</td>\n",
       "    </tr>\n",
       "  </tbody>\n",
       "</table>\n",
       "<p>8 rows × 92 columns</p>\n",
       "</div>"
      ],
      "text/plain": [
       "       capacity_bytes       failure  smart_1_normalized   smart_1_raw  \\\n",
       "count    3.566000e+04  35660.000000        35654.000000  3.565400e+04   \n",
       "mean     4.000114e+12      0.059450          115.297947  1.221033e+08   \n",
       "std      5.189194e+10      0.236469            3.861476  7.035845e+07   \n",
       "min     -1.000000e+00      0.000000           96.000000  0.000000e+00   \n",
       "25%      4.000787e+12      0.000000          114.000000  6.104690e+07   \n",
       "50%      4.000787e+12      0.000000          117.000000  1.222174e+08   \n",
       "75%      4.000787e+12      0.000000          118.000000  1.830594e+08   \n",
       "max      4.000787e+12      1.000000          120.000000  2.441396e+08   \n",
       "\n",
       "       smart_2_normalized  smart_2_raw  smart_3_normalized  smart_3_raw  \\\n",
       "count                 0.0          0.0        35654.000000      35654.0   \n",
       "mean                  NaN          NaN           93.437174          0.0   \n",
       "std                   NaN          NaN            2.361330          0.0   \n",
       "min                   NaN          NaN           91.000000          0.0   \n",
       "25%                   NaN          NaN           91.000000          0.0   \n",
       "50%                   NaN          NaN           92.000000          0.0   \n",
       "75%                   NaN          NaN           95.000000          0.0   \n",
       "max                   NaN          NaN          100.000000          0.0   \n",
       "\n",
       "       smart_4_normalized   smart_4_raw  ...  smart_250_normalized  \\\n",
       "count        35654.000000  35654.000000  ...                   0.0   \n",
       "mean            99.999635     10.543305  ...                   NaN   \n",
       "std              0.019092     22.875038  ...                   NaN   \n",
       "min             99.000000      1.000000  ...                   NaN   \n",
       "25%            100.000000      5.000000  ...                   NaN   \n",
       "50%            100.000000      8.000000  ...                   NaN   \n",
       "75%            100.000000     13.000000  ...                   NaN   \n",
       "max            100.000000   1113.000000  ...                   NaN   \n",
       "\n",
       "       smart_250_raw  smart_251_normalized  smart_251_raw  \\\n",
       "count            0.0                   0.0            0.0   \n",
       "mean             NaN                   NaN            NaN   \n",
       "std              NaN                   NaN            NaN   \n",
       "min              NaN                   NaN            NaN   \n",
       "25%              NaN                   NaN            NaN   \n",
       "50%              NaN                   NaN            NaN   \n",
       "75%              NaN                   NaN            NaN   \n",
       "max              NaN                   NaN            NaN   \n",
       "\n",
       "       smart_252_normalized  smart_252_raw  smart_254_normalized  \\\n",
       "count                   0.0            0.0                   0.0   \n",
       "mean                    NaN            NaN                   NaN   \n",
       "std                     NaN            NaN                   NaN   \n",
       "min                     NaN            NaN                   NaN   \n",
       "25%                     NaN            NaN                   NaN   \n",
       "50%                     NaN            NaN                   NaN   \n",
       "75%                     NaN            NaN                   NaN   \n",
       "max                     NaN            NaN                   NaN   \n",
       "\n",
       "       smart_254_raw  smart_255_normalized  smart_255_raw  \n",
       "count            0.0                   0.0            0.0  \n",
       "mean             NaN                   NaN            NaN  \n",
       "std              NaN                   NaN            NaN  \n",
       "min              NaN                   NaN            NaN  \n",
       "25%              NaN                   NaN            NaN  \n",
       "50%              NaN                   NaN            NaN  \n",
       "75%              NaN                   NaN            NaN  \n",
       "max              NaN                   NaN            NaN  \n",
       "\n",
       "[8 rows x 92 columns]"
      ]
     },
     "execution_count": 140,
     "metadata": {},
     "output_type": "execute_result"
    }
   ],
   "source": [
    "df_test.describe()"
   ]
  },
  {
   "cell_type": "code",
   "execution_count": 141,
   "metadata": {},
   "outputs": [
    {
     "name": "stdout",
     "output_type": "stream",
     "text": [
      "(35660, 95)\n"
     ]
    }
   ],
   "source": [
    "print(df_test.shape)"
   ]
  },
  {
   "cell_type": "markdown",
   "metadata": {},
   "source": [
    "### Training Data Class Label Balance"
   ]
  },
  {
   "cell_type": "code",
   "execution_count": 142,
   "metadata": {},
   "outputs": [
    {
     "data": {
      "text/plain": [
       "Text(0.5, 1.0, 'Unbalanced Training Data')"
      ]
     },
     "execution_count": 142,
     "metadata": {},
     "output_type": "execute_result"
    },
    {
     "data": {
      "image/png": "[encoded data removed]",
      "text/plain": [
       "<Figure size 432x288 with 1 Axes>"
      ]
     },
     "metadata": {},
     "output_type": "display_data"
    }
   ],
   "source": [
    "sns.countplot(df_train['failure']).set_title(\"Unbalanced Training Data\")"
   ]
  },
  {
   "cell_type": "code",
   "execution_count": 143,
   "metadata": {},
   "outputs": [
    {
     "name": "stdout",
     "output_type": "stream",
     "text": [
      "valid hdds: 134281\n",
      "failing hdds: 8357\n"
     ]
    }
   ],
   "source": [
    "valid = df_train[df_train['failure'] == 0]\n",
    "failed = df_train[df_train['failure'] == 1]\n",
    "\n",
    "print(\"valid hdds:\",len(valid))\n",
    "print(\"failing hdds:\",len(failed))"
   ]
  },
  {
   "cell_type": "code",
   "execution_count": 144,
   "metadata": {},
   "outputs": [
    {
     "name": "stdout",
     "output_type": "stream",
     "text": [
      "Random under-sampling:\n",
      "1    8357\n",
      "0    8357\n",
      "Name: failure, dtype: int64\n"
     ]
    },
    {
     "data": {
      "text/plain": [
       "Text(0.5, 1.0, 'Balanced Training Data')"
      ]
     },
     "execution_count": 144,
     "metadata": {},
     "output_type": "execute_result"
    },
    {
     "data": {
      "image/png": "[encoded data removed]",
      "text/plain": [
       "<Figure size 432x288 with 1 Axes>"
      ]
     },
     "metadata": {},
     "output_type": "display_data"
    }
   ],
   "source": [
    "df_class_0_under = valid.sample(len(failed))\n",
    "df_train = pd.concat([df_class_0_under, failed], axis=0)\n",
    "\n",
    "print('Random under-sampling:')\n",
    "print(df_train.failure.value_counts())\n",
    "\n",
    "sns.countplot(df_train['failure']).set_title(\"Balanced Training Data\")"
   ]
  },
  {
   "cell_type": "markdown",
   "metadata": {},
   "source": [
    "### Features Selection"
   ]
  },
  {
   "cell_type": "code",
   "execution_count": 145,
   "metadata": {},
   "outputs": [],
   "source": [
    "# According to Beach (2014), there are 5 s.m.a.r.t features which contain information related to the failure event,\n",
    "# these features are, smart_5_raw, smart_187_raw, smart_188_raw, smart_197_raw and smart_198_raw\n",
    "# -----------------------------------------------------------------------------------------------------------------\n",
    "# SMART 5:   Reallocated_Sector_Count.\n",
    "# SMART 187: Reported_Uncorrectable_Errors.\n",
    "# SMART 188: Command_Timeout.\n",
    "# SMART 197: Current_Pending_Sector_Count.\n",
    "# SMART 198: Offline_Uncorrectable.\n",
    "# -----------------------------------------------------------------------------------------------------------------\n",
    "# Source: https://www.backblaze.com/blog/hard-drive-smart-stats\n",
    "\n",
    "features = ['date',\n",
    "            'serial_number',\n",
    "            'model',\n",
    "            'capacity_bytes',\n",
    "            'failure',\n",
    "            'smart_5_raw',\n",
    "            'smart_187_raw',\n",
    "            'smart_188_raw',\n",
    "            'smart_197_raw',\n",
    "            'smart_198_raw']"
   ]
  },
  {
   "cell_type": "code",
   "execution_count": 146,
   "metadata": {},
   "outputs": [
    {
     "data": {
      "text/plain": [
       "['smart_1_normalized',\n",
       " 'smart_1_raw',\n",
       " 'smart_2_normalized',\n",
       " 'smart_2_raw',\n",
       " 'smart_3_normalized',\n",
       " 'smart_3_raw',\n",
       " 'smart_4_normalized',\n",
       " 'smart_4_raw',\n",
       " 'smart_5_normalized',\n",
       " 'smart_7_normalized',\n",
       " 'smart_7_raw',\n",
       " 'smart_8_normalized',\n",
       " 'smart_8_raw',\n",
       " 'smart_9_normalized',\n",
       " 'smart_9_raw',\n",
       " 'smart_10_normalized',\n",
       " 'smart_10_raw',\n",
       " 'smart_11_normalized',\n",
       " 'smart_11_raw',\n",
       " 'smart_12_normalized',\n",
       " 'smart_12_raw',\n",
       " 'smart_13_normalized',\n",
       " 'smart_13_raw',\n",
       " 'smart_15_normalized',\n",
       " 'smart_15_raw',\n",
       " 'smart_22_normalized',\n",
       " 'smart_22_raw',\n",
       " 'smart_183_normalized',\n",
       " 'smart_183_raw',\n",
       " 'smart_184_normalized',\n",
       " 'smart_184_raw',\n",
       " 'smart_187_normalized',\n",
       " 'smart_188_normalized',\n",
       " 'smart_189_normalized',\n",
       " 'smart_189_raw',\n",
       " 'smart_190_normalized',\n",
       " 'smart_190_raw',\n",
       " 'smart_191_normalized',\n",
       " 'smart_191_raw',\n",
       " 'smart_192_normalized',\n",
       " 'smart_192_raw',\n",
       " 'smart_193_normalized',\n",
       " 'smart_193_raw',\n",
       " 'smart_194_normalized',\n",
       " 'smart_194_raw',\n",
       " 'smart_195_normalized',\n",
       " 'smart_195_raw',\n",
       " 'smart_196_normalized',\n",
       " 'smart_196_raw',\n",
       " 'smart_197_normalized',\n",
       " 'smart_198_normalized',\n",
       " 'smart_199_normalized',\n",
       " 'smart_199_raw',\n",
       " 'smart_200_normalized',\n",
       " 'smart_200_raw',\n",
       " 'smart_201_normalized',\n",
       " 'smart_201_raw',\n",
       " 'smart_220_normalized',\n",
       " 'smart_220_raw',\n",
       " 'smart_222_normalized',\n",
       " 'smart_222_raw',\n",
       " 'smart_223_normalized',\n",
       " 'smart_223_raw',\n",
       " 'smart_224_normalized',\n",
       " 'smart_224_raw',\n",
       " 'smart_225_normalized',\n",
       " 'smart_225_raw',\n",
       " 'smart_226_normalized',\n",
       " 'smart_226_raw',\n",
       " 'smart_240_normalized',\n",
       " 'smart_240_raw',\n",
       " 'smart_241_normalized',\n",
       " 'smart_241_raw',\n",
       " 'smart_242_normalized',\n",
       " 'smart_242_raw',\n",
       " 'smart_250_normalized',\n",
       " 'smart_250_raw',\n",
       " 'smart_251_normalized',\n",
       " 'smart_251_raw',\n",
       " 'smart_252_normalized',\n",
       " 'smart_252_raw',\n",
       " 'smart_254_normalized',\n",
       " 'smart_254_raw',\n",
       " 'smart_255_normalized',\n",
       " 'smart_255_raw']"
      ]
     },
     "execution_count": 146,
     "metadata": {},
     "output_type": "execute_result"
    }
   ],
   "source": [
    "# misc features to be dropped\n",
    "misc_feat = [fname for fname in df_train if fname not in features] \n",
    "misc_feat"
   ]
  },
  {
   "cell_type": "code",
   "execution_count": 147,
   "metadata": {},
   "outputs": [],
   "source": [
    "df_train.drop(misc_feat,inplace=True,axis=1)"
   ]
  },
  {
   "cell_type": "code",
   "execution_count": 148,
   "metadata": {},
   "outputs": [
    {
     "data": {
      "text/plain": [
       "Index(['date', 'serial_number', 'model'], dtype='object')"
      ]
     },
     "execution_count": 148,
     "metadata": {},
     "output_type": "execute_result"
    }
   ],
   "source": [
    "obj = df_train.dtypes[df_train.dtypes == object ].index  \n",
    "obj"
   ]
  },
  {
   "cell_type": "code",
   "execution_count": 149,
   "metadata": {},
   "outputs": [],
   "source": [
    "df_train = df_train.drop(obj,axis=1)"
   ]
  },
  {
   "cell_type": "code",
   "execution_count": 150,
   "metadata": {},
   "outputs": [
    {
     "data": {
      "text/plain": [
       "capacity_bytes    0\n",
       "failure           0\n",
       "smart_5_raw       0\n",
       "smart_187_raw     0\n",
       "smart_188_raw     0\n",
       "smart_197_raw     0\n",
       "smart_198_raw     0\n",
       "dtype: int64"
      ]
     },
     "execution_count": 150,
     "metadata": {},
     "output_type": "execute_result"
    }
   ],
   "source": [
    "df_train.isnull().sum()"
   ]
  },
  {
   "cell_type": "code",
   "execution_count": 151,
   "metadata": {},
   "outputs": [
    {
     "data": {
      "text/plain": [
       "capacity_bytes    0\n",
       "failure           0\n",
       "smart_5_raw       0\n",
       "smart_187_raw     0\n",
       "smart_188_raw     0\n",
       "smart_197_raw     0\n",
       "smart_198_raw     0\n",
       "dtype: int64"
      ]
     },
     "execution_count": 151,
     "metadata": {},
     "output_type": "execute_result"
    }
   ],
   "source": [
    "df_train['smart_187_raw'] = df_train['smart_187_raw'].fillna(0)  \n",
    "df_train['smart_5_raw'] = df_train['smart_5_raw'].fillna(0)\n",
    "df_train['smart_188_raw'] = df_train['smart_188_raw'].fillna(0)\n",
    "df_train['smart_197_raw'] = df_train['smart_197_raw'].fillna(0)\n",
    "df_train['smart_198_raw'] = df_train['smart_198_raw'].fillna(0)\n",
    "df_train.isnull().sum()"
   ]
  },
  {
   "cell_type": "code",
   "execution_count": 152,
   "metadata": {},
   "outputs": [
    {
     "data": {
      "text/html": [
       "<div>\n",
       "<style scoped>\n",
       "    .dataframe tbody tr th:only-of-type {\n",
       "        vertical-align: middle;\n",
       "    }\n",
       "\n",
       "    .dataframe tbody tr th {\n",
       "        vertical-align: top;\n",
       "    }\n",
       "\n",
       "    .dataframe thead th {\n",
       "        text-align: right;\n",
       "    }\n",
       "</style>\n",
       "<table border=\"1\" class=\"dataframe\">\n",
       "  <thead>\n",
       "    <tr style=\"text-align: right;\">\n",
       "      <th></th>\n",
       "      <th>failure</th>\n",
       "      <th>smart_5_raw</th>\n",
       "      <th>smart_187_raw</th>\n",
       "      <th>smart_188_raw</th>\n",
       "      <th>smart_197_raw</th>\n",
       "      <th>smart_198_raw</th>\n",
       "    </tr>\n",
       "  </thead>\n",
       "  <tbody>\n",
       "    <tr>\n",
       "      <th>72740</th>\n",
       "      <td>0</td>\n",
       "      <td>0.0</td>\n",
       "      <td>0.0</td>\n",
       "      <td>0.0</td>\n",
       "      <td>0.0</td>\n",
       "      <td>0.0</td>\n",
       "    </tr>\n",
       "    <tr>\n",
       "      <th>176330</th>\n",
       "      <td>0</td>\n",
       "      <td>0.0</td>\n",
       "      <td>0.0</td>\n",
       "      <td>0.0</td>\n",
       "      <td>0.0</td>\n",
       "      <td>0.0</td>\n",
       "    </tr>\n",
       "    <tr>\n",
       "      <th>40516</th>\n",
       "      <td>0</td>\n",
       "      <td>0.0</td>\n",
       "      <td>0.0</td>\n",
       "      <td>0.0</td>\n",
       "      <td>0.0</td>\n",
       "      <td>0.0</td>\n",
       "    </tr>\n",
       "    <tr>\n",
       "      <th>153906</th>\n",
       "      <td>0</td>\n",
       "      <td>0.0</td>\n",
       "      <td>0.0</td>\n",
       "      <td>0.0</td>\n",
       "      <td>0.0</td>\n",
       "      <td>0.0</td>\n",
       "    </tr>\n",
       "    <tr>\n",
       "      <th>105288</th>\n",
       "      <td>0</td>\n",
       "      <td>0.0</td>\n",
       "      <td>0.0</td>\n",
       "      <td>0.0</td>\n",
       "      <td>0.0</td>\n",
       "      <td>0.0</td>\n",
       "    </tr>\n",
       "    <tr>\n",
       "      <th>...</th>\n",
       "      <td>...</td>\n",
       "      <td>...</td>\n",
       "      <td>...</td>\n",
       "      <td>...</td>\n",
       "      <td>...</td>\n",
       "      <td>...</td>\n",
       "    </tr>\n",
       "    <tr>\n",
       "      <th>55121</th>\n",
       "      <td>1</td>\n",
       "      <td>0.0</td>\n",
       "      <td>0.0</td>\n",
       "      <td>0.0</td>\n",
       "      <td>104.0</td>\n",
       "      <td>104.0</td>\n",
       "    </tr>\n",
       "    <tr>\n",
       "      <th>2143</th>\n",
       "      <td>1</td>\n",
       "      <td>0.0</td>\n",
       "      <td>0.0</td>\n",
       "      <td>0.0</td>\n",
       "      <td>0.0</td>\n",
       "      <td>0.0</td>\n",
       "    </tr>\n",
       "    <tr>\n",
       "      <th>59466</th>\n",
       "      <td>1</td>\n",
       "      <td>0.0</td>\n",
       "      <td>0.0</td>\n",
       "      <td>0.0</td>\n",
       "      <td>0.0</td>\n",
       "      <td>0.0</td>\n",
       "    </tr>\n",
       "    <tr>\n",
       "      <th>137</th>\n",
       "      <td>1</td>\n",
       "      <td>0.0</td>\n",
       "      <td>1.0</td>\n",
       "      <td>0.0</td>\n",
       "      <td>0.0</td>\n",
       "      <td>0.0</td>\n",
       "    </tr>\n",
       "    <tr>\n",
       "      <th>88173</th>\n",
       "      <td>1</td>\n",
       "      <td>8.0</td>\n",
       "      <td>3.0</td>\n",
       "      <td>0.0</td>\n",
       "      <td>8.0</td>\n",
       "      <td>8.0</td>\n",
       "    </tr>\n",
       "  </tbody>\n",
       "</table>\n",
       "<p>16714 rows × 6 columns</p>\n",
       "</div>"
      ],
      "text/plain": [
       "        failure  smart_5_raw  smart_187_raw  smart_188_raw  smart_197_raw  \\\n",
       "72740         0          0.0            0.0            0.0            0.0   \n",
       "176330        0          0.0            0.0            0.0            0.0   \n",
       "40516         0          0.0            0.0            0.0            0.0   \n",
       "153906        0          0.0            0.0            0.0            0.0   \n",
       "105288        0          0.0            0.0            0.0            0.0   \n",
       "...         ...          ...            ...            ...            ...   \n",
       "55121         1          0.0            0.0            0.0          104.0   \n",
       "2143          1          0.0            0.0            0.0            0.0   \n",
       "59466         1          0.0            0.0            0.0            0.0   \n",
       "137           1          0.0            1.0            0.0            0.0   \n",
       "88173         1          8.0            3.0            0.0            8.0   \n",
       "\n",
       "        smart_198_raw  \n",
       "72740             0.0  \n",
       "176330            0.0  \n",
       "40516             0.0  \n",
       "153906            0.0  \n",
       "105288            0.0  \n",
       "...               ...  \n",
       "55121           104.0  \n",
       "2143              0.0  \n",
       "59466             0.0  \n",
       "137               0.0  \n",
       "88173             8.0  \n",
       "\n",
       "[16714 rows x 6 columns]"
      ]
     },
     "execution_count": 152,
     "metadata": {},
     "output_type": "execute_result"
    }
   ],
   "source": [
    "df_train = df_train.drop('capacity_bytes',axis=1)\n",
    "df_train"
   ]
  },
  {
   "cell_type": "code",
   "execution_count": 153,
   "metadata": {},
   "outputs": [],
   "source": [
    "X_train = df_train.drop('failure',axis=1)\n",
    "Y_train = df_train['failure']"
   ]
  },
  {
   "cell_type": "code",
   "execution_count": 154,
   "metadata": {},
   "outputs": [],
   "source": [
    "df_test = df_test[:4088]"
   ]
  },
  {
   "cell_type": "code",
   "execution_count": 155,
   "metadata": {},
   "outputs": [
    {
     "name": "stdout",
     "output_type": "stream",
     "text": [
      "valid hdds: 3850\n",
      "failing hdds: 238\n"
     ]
    },
    {
     "data": {
      "text/plain": [
       "Text(0.5, 1.0, 'Testing Data')"
      ]
     },
     "execution_count": 155,
     "metadata": {},
     "output_type": "execute_result"
    },
    {
     "data": {
      "image/png": "[encoded data removed]",
      "text/plain": [
       "<Figure size 432x288 with 1 Axes>"
      ]
     },
     "metadata": {},
     "output_type": "display_data"
    }
   ],
   "source": [
    "valid_test = df_test[df_test['failure'] == 0]\n",
    "failed_test = df_test[df_test['failure'] == 1]\n",
    "\n",
    "print(\"valid hdds:\",len(valid_test))\n",
    "print(\"failing hdds:\",len(failed_test))\n",
    "\n",
    "sns.countplot(df_test['failure']).set_title(\"Testing Data\")"
   ]
  },
  {
   "cell_type": "code",
   "execution_count": 156,
   "metadata": {},
   "outputs": [],
   "source": [
    "df_test.drop(misc_feat,inplace=True,axis=1)"
   ]
  },
  {
   "cell_type": "code",
   "execution_count": 157,
   "metadata": {},
   "outputs": [
    {
     "data": {
      "text/plain": [
       "date              0\n",
       "serial_number     0\n",
       "model             0\n",
       "capacity_bytes    0\n",
       "failure           0\n",
       "smart_5_raw       0\n",
       "smart_187_raw     0\n",
       "smart_188_raw     0\n",
       "smart_197_raw     0\n",
       "smart_198_raw     0\n",
       "dtype: int64"
      ]
     },
     "execution_count": 157,
     "metadata": {},
     "output_type": "execute_result"
    }
   ],
   "source": [
    "df_test['smart_187_raw'] = df_test['smart_187_raw'].fillna(0)\n",
    "df_test['smart_5_raw'] = df_test['smart_5_raw'].fillna(0)\n",
    "df_test['smart_188_raw'] = df_test['smart_188_raw'].fillna(0)\n",
    "df_test['smart_197_raw'] =df_test['smart_197_raw'].fillna(0)\n",
    "df_test['smart_198_raw'] = df_test['smart_198_raw'].fillna(0)\n",
    "df_test.isnull().sum()"
   ]
  },
  {
   "cell_type": "code",
   "execution_count": 158,
   "metadata": {},
   "outputs": [],
   "source": [
    "df_test = df_test.drop(obj,axis=1)\n",
    "df_test = df_test.drop('capacity_bytes',axis=1)"
   ]
  },
  {
   "cell_type": "code",
   "execution_count": 159,
   "metadata": {},
   "outputs": [],
   "source": [
    "X_test = df_test.drop('failure',axis=1)\n",
    "Y_test = df_test['failure']"
   ]
  },
  {
   "cell_type": "code",
   "execution_count": 160,
   "metadata": {},
   "outputs": [
    {
     "name": "stdout",
     "output_type": "stream",
     "text": [
      "(16714, 5)\n",
      "(16714,)\n"
     ]
    }
   ],
   "source": [
    "print(X_train.shape)\n",
    "print(Y_train.shape)"
   ]
  },
  {
   "cell_type": "markdown",
   "metadata": {},
   "source": [
    "### Support Vector Machines"
   ]
  },
  {
   "cell_type": "code",
   "execution_count": 161,
   "metadata": {},
   "outputs": [
    {
     "name": "stderr",
     "output_type": "stream",
     "text": [
      "C:\\Users\\Darie\\anaconda3\\lib\\site-packages\\sklearn\\svm\\_base.py:976: ConvergenceWarning: Liblinear failed to converge, increase the number of iterations.\n",
      "  warnings.warn(\"Liblinear failed to converge, increase \"\n"
     ]
    }
   ],
   "source": [
    "svm_model = LinearSVC()\n",
    "svm_history = svm_model.fit(X_train, Y_train)\n",
    "preds_y_svm = svm_model.predict(X_test)"
   ]
  },
  {
   "cell_type": "code",
   "execution_count": 162,
   "metadata": {},
   "outputs": [
    {
     "name": "stdout",
     "output_type": "stream",
     "text": [
      "              precision    recall  f1-score   support\n",
      "\n",
      "           0       0.96      0.98      0.97      3850\n",
      "           1       0.55      0.37      0.45       238\n",
      "\n",
      "    accuracy                           0.95      4088\n",
      "   macro avg       0.76      0.68      0.71      4088\n",
      "weighted avg       0.94      0.95      0.94      4088\n",
      "\n"
     ]
    }
   ],
   "source": [
    "print(classification_report(Y_test, preds_y_svm))"
   ]
  },
  {
   "cell_type": "code",
   "execution_count": 163,
   "metadata": {},
   "outputs": [
    {
     "name": "stdout",
     "output_type": "stream",
     "text": [
      "Model: Support Vector Machines\n",
      "The accuracy is 94.56947162426614\n",
      "The precision is 0.5493827160493827\n",
      "The recall is 0.3739495798319328\n",
      "The F1-Score is 0.445\n",
      "ROC AUC score: 0.677494\n",
      "The Matthews correlation coefficient is 0.42608919622399494\n"
     ]
    }
   ],
   "source": [
    "model_performance(\"Support Vector Machines\", preds_y_svm)"
   ]
  },
  {
   "cell_type": "code",
   "execution_count": 164,
   "metadata": {},
   "outputs": [
    {
     "data": {
      "text/plain": [
       "<sklearn.metrics._plot.roc_curve.RocCurveDisplay at 0x244813f83d0>"
      ]
     },
     "execution_count": 164,
     "metadata": {},
     "output_type": "execute_result"
    },
    {
     "data": {
      "image/png": "[encoded data removed]",
      "text/plain": [
       "<Figure size 432x288 with 1 Axes>"
      ]
     },
     "metadata": {},
     "output_type": "display_data"
    }
   ],
   "source": [
    "plot_roc_curve(svm_model, X_test, Y_test)"
   ]
  },
  {
   "cell_type": "markdown",
   "metadata": {},
   "source": [
    "### Random-Forest Model"
   ]
  },
  {
   "cell_type": "code",
   "execution_count": 165,
   "metadata": {},
   "outputs": [],
   "source": [
    "# random forest model creation \n",
    "rfc = RandomForestClassifier() \n",
    "rfc.fit(X_train, Y_train) \n",
    "\n",
    "# predictions(Notice the caps'P' of yPred to differentiate between model 1 and 2) \n",
    "preds_y_rf = rfc.predict(X_test)"
   ]
  },
  {
   "cell_type": "code",
   "execution_count": 166,
   "metadata": {},
   "outputs": [
    {
     "name": "stdout",
     "output_type": "stream",
     "text": [
      "Model: Random Forest Model\n",
      "The accuracy is 95.10763209393346\n",
      "The precision is 0.6172839506172839\n",
      "The recall is 0.42016806722689076\n",
      "The F1-Score is 0.5\n",
      "ROC AUC score: 0.702032\n",
      "The Matthews correlation coefficient is 0.484994184528698\n"
     ]
    }
   ],
   "source": [
    "model_performance(\"Random Forest Model\", preds_y_rf)"
   ]
  },
  {
   "cell_type": "code",
   "execution_count": 167,
   "metadata": {},
   "outputs": [
    {
     "data": {
      "text/plain": [
       "<sklearn.metrics._plot.roc_curve.RocCurveDisplay at 0x2448035e520>"
      ]
     },
     "execution_count": 167,
     "metadata": {},
     "output_type": "execute_result"
    },
    {
     "data": {
      "image/png": "[encoded data removed]",
      "text/plain": [
       "<Figure size 432x288 with 1 Axes>"
      ]
     },
     "metadata": {},
     "output_type": "display_data"
    }
   ],
   "source": [
    "plot_roc_curve(rfc, X_test, Y_test)"
   ]
  },
  {
   "cell_type": "code",
   "execution_count": 168,
   "metadata": {},
   "outputs": [],
   "source": [
    "# logistic Regression model creation\n",
    "lr = LogisticRegression() \n",
    "lr.fit(X_train, Y_train) \n",
    "\n",
    "# predictions(Notice the caps'P' of yPred to differentiate between model 1 and 2) \n",
    "preds_y_lr = lr.predict(X_test)"
   ]
  },
  {
   "cell_type": "code",
   "execution_count": 169,
   "metadata": {},
   "outputs": [
    {
     "name": "stdout",
     "output_type": "stream",
     "text": [
      "Model: Logistic Regression\n",
      "The accuracy is 94.6183953033268\n",
      "The precision is 0.5548780487804879\n",
      "The recall is 0.38235294117647056\n",
      "The F1-Score is 0.4527363184079602\n",
      "ROC AUC score: 0.681696\n",
      "The Matthews correlation coefficient is 0.43361836266307996\n"
     ]
    }
   ],
   "source": [
    "model_performance(\"Logistic Regression\", preds_y_lr)"
   ]
  },
  {
   "cell_type": "code",
   "execution_count": 170,
   "metadata": {},
   "outputs": [
    {
     "data": {
      "text/plain": [
       "<sklearn.metrics._plot.roc_curve.RocCurveDisplay at 0x24480e72d60>"
      ]
     },
     "execution_count": 170,
     "metadata": {},
     "output_type": "execute_result"
    },
    {
     "data": {
      "image/png": "[encoded data removed]",
      "text/plain": [
       "<Figure size 432x288 with 1 Axes>"
      ]
     },
     "metadata": {},
     "output_type": "display_data"
    }
   ],
   "source": [
    "plot_roc_curve(lr, X_test, Y_test)"
   ]
  },
  {
   "cell_type": "markdown",
   "metadata": {},
   "source": [
    "### Multi-Layer Perceptron"
   ]
  },
  {
   "cell_type": "code",
   "execution_count": 171,
   "metadata": {},
   "outputs": [],
   "source": [
    "mlp = MLPClassifier(hidden_layer_sizes=100, learning_rate_init=0.1).fit(X_train, Y_train)\n",
    "preds_y_mlp = mlp.predict(X_test)"
   ]
  },
  {
   "cell_type": "code",
   "execution_count": 172,
   "metadata": {},
   "outputs": [
    {
     "name": "stdout",
     "output_type": "stream",
     "text": [
      "Model: Multi-Layer Perceptron\n",
      "The accuracy is 94.52054794520548\n",
      "The precision is 0.5380434782608695\n",
      "The recall is 0.41596638655462187\n",
      "The F1-Score is 0.46919431279620855\n",
      "ROC AUC score: 0.696944\n",
      "The Matthews correlation coefficient is 0.44486505191105075\n"
     ]
    }
   ],
   "source": [
    "model_performance(\"Multi-Layer Perceptron\", preds_y_mlp)"
   ]
  },
  {
   "cell_type": "code",
   "execution_count": 173,
   "metadata": {},
   "outputs": [
    {
     "data": {
      "text/plain": [
       "<sklearn.metrics._plot.roc_curve.RocCurveDisplay at 0x24485c40e80>"
      ]
     },
     "execution_count": 173,
     "metadata": {},
     "output_type": "execute_result"
    },
    {
     "data": {
      "image/png": "[encoded data removed]",
      "text/plain": [
       "<Figure size 432x288 with 1 Axes>"
      ]
     },
     "metadata": {},
     "output_type": "display_data"
    }
   ],
   "source": [
    "plot_roc_curve(mlp, X_test, Y_test)"
   ]
  },
  {
   "cell_type": "code",
   "execution_count": null,
   "metadata": {},
   "outputs": [],
   "source": []
  }
 ],
 "metadata": {
  "kernelspec": {
   "display_name": "Python 3",
   "language": "python",
   "name": "python3"
  },
  "language_info": {
   "codemirror_mode": {
    "name": "ipython",
    "version": 3
   },
   "file_extension": ".py",
   "mimetype": "text/x-python",
   "name": "python",
   "nbconvert_exporter": "python",
   "pygments_lexer": "ipython3",
   "version": "3.8.3"
  }
 },
 "nbformat": 4,
 "nbformat_minor": 4
}
